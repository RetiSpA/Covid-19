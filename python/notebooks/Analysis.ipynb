{
 "cells": [
  {
   "cell_type": "markdown",
   "metadata": {},
   "source": [
    "# Analysis"
   ]
  },
  {
   "cell_type": "markdown",
   "metadata": {},
   "source": [
    "## Resources, Tasks and examples\n",
    "\n",
    "https://www.kaggle.com/lucabasa/covid-19-spread-and-containment\n",
    "\n",
    "https://www.kaggle.com/vanshjatana/machine-learning-on-coronavirus\n",
    "\n",
    "https://www.kaggle.com/vanshjatana/analysis-and-prediction-on-coronavirus-italy?scriptVersionId=29892166\n",
    "\n",
    "https://www.kaggle.com/vanshjatana/analysis-on-coronavirus\n",
    "\n",
    "https://www.kaggle.com/therealcyberlord/coronavirus-covid-19-visualization-prediction\n",
    "\n",
    "https://www.kaggle.com/rpsuraj/covid-19-comprehensive-data-visualization\n",
    "\n",
    "https://www.kaggle.com/saga21/covid-global-forecast-sir-model-ml-regressions"
   ]
  },
  {
   "cell_type": "code",
   "execution_count": null,
   "metadata": {},
   "outputs": [],
   "source": []
  }
 ],
 "metadata": {
  "kernelspec": {
   "display_name": "Python 3",
   "language": "python",
   "name": "python3"
  },
  "language_info": {
   "codemirror_mode": {
    "name": "ipython",
    "version": 3
   },
   "file_extension": ".py",
   "mimetype": "text/x-python",
   "name": "python",
   "nbconvert_exporter": "python",
   "pygments_lexer": "ipython3",
   "version": "3.6.9"
  }
 },
 "nbformat": 4,
 "nbformat_minor": 4
}
