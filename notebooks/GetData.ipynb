{
 "cells": [
  {
   "cell_type": "markdown",
   "metadata": {},
   "source": [
    "# Get COVID Data"
   ]
  },
  {
   "cell_type": "markdown",
   "metadata": {},
   "source": [
    "Get COVID Data inserted into YAML Config file into ./Data folder\n"
   ]
  },
  {
   "cell_type": "code",
   "execution_count": 53,
   "metadata": {},
   "outputs": [],
   "source": [
    "import pandas as pd\n",
    "import numpy as np\n",
    "import requests\n",
    "import os\n",
    "import yaml"
   ]
  },
  {
   "cell_type": "code",
   "execution_count": 54,
   "metadata": {},
   "outputs": [],
   "source": [
    "%run ../utilities/path_dataset.py\n",
    "%run ../utilities/yaml.py"
   ]
  },
  {
   "cell_type": "code",
   "execution_count": 55,
   "metadata": {},
   "outputs": [
    {
     "data": {
      "text/plain": [
       "'/Users/jeydi/Dropbox/Progetti/PERSONALI/covid-19/data'"
      ]
     },
     "execution_count": 55,
     "metadata": {},
     "output_type": "execute_result"
    }
   ],
   "source": [
    "#Get the dataset folder path\n",
    "folder_path = get_folder_path('../data')\n",
    "folder_path"
   ]
  },
  {
   "cell_type": "code",
   "execution_count": 56,
   "metadata": {},
   "outputs": [
    {
     "name": "stdout",
     "output_type": "stream",
     "text": [
      "File succesfully readed\n"
     ]
    },
    {
     "data": {
      "text/plain": [
       "dict_keys(['italian_dataset', 'italian_province', 'global_confirmed', 'death_global', 'recovered_global', 'latest_global', 'explanations'])"
      ]
     },
     "execution_count": 56,
     "metadata": {},
     "output_type": "execute_result"
    }
   ],
   "source": [
    "#Read yml file\n",
    "dataset = read_yaml(folder_path,'data.yml')\n",
    "dataset.keys()"
   ]
  },
  {
   "cell_type": "code",
   "execution_count": 57,
   "metadata": {},
   "outputs": [
    {
     "name": "stdout",
     "output_type": "stream",
     "text": [
      "File successfully readed\n",
      "File successfully readed\n",
      "File successfully readed\n",
      "File successfully readed\n",
      "File successfully readed\n"
     ]
    },
    {
     "name": "stderr",
     "output_type": "stream",
     "text": [
      "/Users/jeydi/opt/anaconda3/envs/develop/lib/python3.6/site-packages/IPython/core/interactiveshell.py:3242: DtypeWarning: Columns (1,2,10,11,13,14,15,16,17,18,19,20,22,23,24,25,26,27,31,32) have mixed types. Specify dtype option on import or set low_memory=False.\n",
      "  if (await self.run_code(code, result,  async_=asy)):\n"
     ]
    },
    {
     "name": "stdout",
     "output_type": "stream",
     "text": [
      "File successfully readed\n",
      "File successfully readed\n"
     ]
    }
   ],
   "source": [
    "italian_dataset = read_dataset_online(dataset['italian_dataset'])\n",
    "italian_province = read_dataset_online(dataset['italian_province'])\n",
    "global_confirmed = read_dataset_online(dataset['global_confirmed'])\n",
    "death_global = read_dataset_online(dataset['death_global'])\n",
    "recovered_global = read_dataset_online(dataset['recovered_global'])\n",
    "latest_global = read_dataset_online(dataset['latest_global'])\n",
    "explanations = read_dataset_online(dataset['explanations'])"
   ]
  }
 ],
 "metadata": {
  "kernelspec": {
   "display_name": "Python 3",
   "language": "python",
   "name": "python3"
  },
  "language_info": {
   "codemirror_mode": {
    "name": "ipython",
    "version": 3
   },
   "file_extension": ".py",
   "mimetype": "text/x-python",
   "name": "python",
   "nbconvert_exporter": "python",
   "pygments_lexer": "ipython3",
   "version": "3.6.9"
  }
 },
 "nbformat": 4,
 "nbformat_minor": 4
}
